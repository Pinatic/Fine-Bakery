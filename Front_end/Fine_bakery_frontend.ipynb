{
 "cells": [
  {
   "cell_type": "code",
   "execution_count": null,
   "id": "1f18948b",
   "metadata": {},
   "outputs": [],
   "source": [
    "from bokeh.sampledata.autompg import autompg_clean as df\n",
    "import hvplot.pandas\n",
    "import pandas as pd\n",
    "import panel as pn\n",
    "import param\n",
    "import holoviews as hv\n",
    "hv.extension('bokeh')\n",
    "pn.extension('tabulator')\n",
    "PALETTE = [\"#ff6f69\", \"#ffcc5c\", \"#88d8b0\", ]\n",
    "import json\n",
    "from datetime import datetime\n",
    "from datetime import date\n",
    "from panel.template import FastListTemplate\n",
    "from bokeh.plotting import figure\n",
    "import holoviews as hv\n",
    "from bokeh.io import export_png"
   ]
  },
  {
   "cell_type": "code",
   "execution_count": null,
   "id": "a5513296",
   "metadata": {},
   "outputs": [],
   "source": [
    "class FormatDateRangeSlider(pn.widgets.DateRangeSlider):\n",
    "    format = param.String(r\"%m%Y\")\n",
    "\n",
    "    def _process_property_change(self, msg):\n",
    "        msg = super()._process_property_change(msg)\n",
    "        if \"value\" in msg:\n",
    "            v1, v2 = msg[\"value\"]\n",
    "            v1 = datetime.strptime(v1.strftime(self.format), self.format)\n",
    "            v2 = datetime.strptime(v2.strftime(self.format), self.format)\n",
    "            msg[\"value\"] = (v1, v2)\n",
    "\n",
    "        if \"value_throttled\" in msg:\n",
    "            v1, v2 = msg[\"value_throttled\"]\n",
    "            v1 = datetime.strptime(v1.strftime(self.format), self.format)\n",
    "            v2 = datetime.strptime(v2.strftime(self.format), self.format)\n",
    "            msg[\"value_throttled\"] = (v1, v2)\n",
    "\n",
    "        return msg"
   ]
  },
  {
   "cell_type": "code",
   "execution_count": null,
   "id": "88483285",
   "metadata": {},
   "outputs": [],
   "source": [
    "f = open(\"Claim_catagorizer\\\\claim_matching.json\")\n",
    "dic = json.load(f)"
   ]
  },
  {
   "cell_type": "code",
   "execution_count": null,
   "id": "7acc16f8",
   "metadata": {},
   "outputs": [],
   "source": [
    "data = [30,20,30,40,50,60]\n",
    "df = pd.DataFrame(data, columns=[\"vegan\"])\n",
    "df[\"recyclable\"] = [60,50,40,50,30,20]\n",
    "df[\"vegetarian\"] = [30,20,50,20,30,60]\n",
    "df[\"green dot certified\"] = [10,20,10,20,30,30]\n",
    "df[\"Date\"] = pd.date_range(\"2023-01-01\", periods=6, freq=\"MS\")"
   ]
  },
  {
   "cell_type": "code",
   "execution_count": null,
   "id": "a30b9e4c",
   "metadata": {},
   "outputs": [],
   "source": [
    "#ingredients = open(\"ingredient_names.txt\")"
   ]
  },
  {
   "cell_type": "code",
   "execution_count": null,
   "id": "7fbaac41",
   "metadata": {},
   "outputs": [],
   "source": [
    "#ingredients.readlines()"
   ]
  },
  {
   "cell_type": "code",
   "execution_count": null,
   "id": "4f4f8868",
   "metadata": {},
   "outputs": [],
   "source": [
    "#ingredient_file = open(\"ingredient_names.txt\", \"r\")\n",
    "#ingredients = ingredient_file.read().split(\",\")"
   ]
  },
  {
   "cell_type": "code",
   "execution_count": null,
   "id": "8627ff4f",
   "metadata": {},
   "outputs": [],
   "source": [
    "#list(ingredients)"
   ]
  },
  {
   "cell_type": "code",
   "execution_count": null,
   "id": "e8888adc",
   "metadata": {},
   "outputs": [],
   "source": [
    "# Defining pages as classes\n",
    "class Page1:\n",
    "    def __init__(self):\n",
    "        self.content = pn.Column(\"Home page\")\n",
    "    \n",
    "    def view(self):\n",
    "        return self.content\n",
    "\n",
    "class Page2:\n",
    "    def __init__(self):\n",
    "        self.content = pn.widgets.AutocompleteInput(name=\"Ingredient search\", options=[\"Cheese\", \"Egg\", \"Onion\"], case_sensitive=False)\n",
    "\n",
    "    def view(self):\n",
    "        #autocomplete = pn.widgets.AutocompleteInput(name=\"Ingredient search\", options=[\"Cheese\", \"Egg\", \"Onion\"])\n",
    "        #self.content = pn.Row(pn.WidgetBox(autocomplete))\n",
    "        return self.content\n",
    "\n",
    "class Page3:\n",
    "    def __init__(self, dic, df):\n",
    "        self.dic = dic\n",
    "        self.df = df\n",
    "\n",
    "    \n",
    "    def view(self):\n",
    "        dropdown = pn.widgets.Select(name=\"Claim\", options=list(self.dic.keys()))\n",
    "        daterange = FormatDateRangeSlider(name=\"Date Range Slider\",\n",
    "                                                       start=datetime(2018, 1, 1),\n",
    "                                                       end=datetime(2026, 6, 1),\n",
    "                                                       value=(datetime.now(), datetime(2024, 6, 1)),\n",
    "                                                       format=\"%m-%Y\")\n",
    "        save_button = pn.widgets.Button(name=\"Save\", button_type=\"primary\")\n",
    "        save_name = pn.widgets.TextInput(name=\"Save as:\", placeholder=\"Egg_prediction_2024\")\n",
    "        \n",
    "        def plot_fig(df, y, xlim):\n",
    "            line = hv.VLine(datetime.now())\n",
    "            line.opts(color=\"red\", line_dash=\"dashed\")\n",
    "            return df.hvplot.line(x=\"Date\", y=y, xlim=xlim)*line\n",
    "        \n",
    "        def save(df, y, xlim, name=\"New_File\"):\n",
    "            plot = df.hvplot.line(x=\"Date\", y=y, xlim=xlim)\n",
    "            hvplot.save(plot, str(name)+\".html\")\n",
    "            pass\n",
    "\n",
    "        \n",
    "        interactive_plot = pn.bind(plot_fig, df=self.df, y=dropdown, xlim=daterange)\n",
    "        \n",
    "        save_button.on_click(lambda event: save(df=self.df, y=dropdown, xlim=daterange, name=save_name.value))\n",
    "        \n",
    "        self.content = pn.Row(pn.WidgetBox(dropdown, daterange, save_name, save_button), interactive_plot)\n",
    "        \n",
    "        return self.content"
   ]
  },
  {
   "cell_type": "code",
   "execution_count": null,
   "id": "c9517e3e",
   "metadata": {},
   "outputs": [],
   "source": [
    "#instantiate pages and add them to dictionary\n",
    "pages = {\n",
    "    \"Page 1\": Page1(),\n",
    "    \"Page 2\": Page2(),\n",
    "    \"Page 3\": Page3(dic, df)\n",
    "}"
   ]
  },
  {
   "cell_type": "code",
   "execution_count": null,
   "id": "3596971f",
   "metadata": {},
   "outputs": [],
   "source": [
    "def show_page(page_instance):\n",
    "    main_area.clear()\n",
    "    main_area.append(page_instance.view())"
   ]
  },
  {
   "cell_type": "code",
   "execution_count": null,
   "id": "b5c38f3f",
   "metadata": {},
   "outputs": [],
   "source": [
    "#buttons to navigate pages\n",
    "page1_button = pn.widgets.Button(name=\"Home page\", button_type=\"primary\")\n",
    "page2_button = pn.widgets.Button(name=\"Ingredient replacement\", button_type=\"primary\")\n",
    "page3_button = pn.widgets.Button(name=\"Trent prediction\", button_type=\"primary\")\n",
    "\n",
    "#button click callback\n",
    "page1_button.on_click(lambda event: show_page(pages[\"Page 1\"]))\n",
    "page2_button.on_click(lambda event: show_page(pages[\"Page 2\"]))\n",
    "page3_button.on_click(lambda event: show_page(pages[\"Page 3\"]))"
   ]
  },
  {
   "cell_type": "code",
   "execution_count": null,
   "id": "864a2269",
   "metadata": {},
   "outputs": [],
   "source": [
    "#create sidebar\n",
    "sidebar = pn.Column(page1_button, page2_button, page3_button)\n",
    "\n",
    "#create main area and display front page\n",
    "main_area = pn.Column(pages[\"Page 1\"].view())\n",
    "\n",
    "#Layout using Template\n",
    "template = FastListTemplate(\n",
    "    title='Fine_bakery', \n",
    "    sidebar=[sidebar],\n",
    "    main=[main_area],\n",
    ")\n",
    "\n",
    "# template.show()\n",
    "template.servable();"
   ]
  },
  {
   "cell_type": "code",
   "execution_count": null,
   "id": "d88435bf",
   "metadata": {},
   "outputs": [],
   "source": [
    "#template.show()"
   ]
  },
  {
   "cell_type": "code",
   "execution_count": null,
   "id": "f9d65554",
   "metadata": {},
   "outputs": [],
   "source": []
  },
  {
   "cell_type": "code",
   "execution_count": null,
   "id": "aea71479",
   "metadata": {},
   "outputs": [],
   "source": [
    "#bokeh_server = pn.serve(pages, port=5006, autoreload=True)"
   ]
  },
  {
   "cell_type": "code",
   "execution_count": null,
   "id": "b8e6fbaf",
   "metadata": {},
   "outputs": [],
   "source": [
    "#bokeh_server.stop()"
   ]
  },
  {
   "cell_type": "code",
   "execution_count": null,
   "id": "6a2451dc",
   "metadata": {},
   "outputs": [],
   "source": [
    "#panel serve fine_bakery_frontend.ipynb"
   ]
  },
  {
   "cell_type": "markdown",
   "id": "5c774633",
   "metadata": {},
   "source": [
    "verdiep in panel https://panel.holoviz.org/\n",
    "\n",
    "begin met voorpagina -omschreven wat is gedaan -welkoms pagina\n",
    "\n",
    "Sidebar met menu\n",
    "\n",
    "1 pagina voor replacement -catagory -ingredient -of zoekvlak -visulisatie van network\n",
    "\n",
    "1 pagina trent prediction -catagory selector -trent visulisatie -bokeh panel visulisatie. hvplot https://hvplot.holoviz.org/"
   ]
  }
 ],
 "metadata": {
  "kernelspec": {
   "display_name": "Python 3 (ipykernel)",
   "language": "python",
   "name": "python3"
  },
  "language_info": {
   "codemirror_mode": {
    "name": "ipython",
    "version": 3
   },
   "file_extension": ".py",
   "mimetype": "text/x-python",
   "name": "python",
   "nbconvert_exporter": "python",
   "pygments_lexer": "ipython3",
   "version": "3.9.7"
  }
 },
 "nbformat": 4,
 "nbformat_minor": 5
}
