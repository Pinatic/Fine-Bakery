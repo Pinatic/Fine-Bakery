{
 "cells": [
  {
   "attachments": {},
   "cell_type": "markdown",
   "metadata": {},
   "source": [
    "TODO:\n",
    "- make the recipe finders store to a file\n",
    "- make the generic scaper read numbers from file, check if it already is in dir, if no, scape recipe\n",
    "- let this proces run every day for a while. exit if breaks?\n",
    "- either in three seperate mains or run it async in one main? -> baba?\n",
    "- save the output of the above processes\n",
    "- ???\n",
    "- profit"
   ]
  },
  {
   "cell_type": "code",
   "execution_count": 17,
   "metadata": {},
   "outputs": [
    {
     "data": {
      "text/plain": [
       "{'author': 'Albert Heijn',\n",
       " 'canonical_url': 'https://www.ah.nl/allerhande/recept/R-R1198340/chinese-koolstamppot',\n",
       " 'category': 'hoofdgerecht',\n",
       " 'cuisine': '',\n",
       " 'description': \"Deze stamppot met Chinese kool is een echte wok 'n roll ervaring voor je smaakpapillen.\",\n",
       " 'host': 'ah.nl',\n",
       " 'image': 'https://static.ah.nl/static/recepten/img_RAM_PRD176073_1024x748_JPG.jpg',\n",
       " 'ingredients': ['1 kg iets kruimige aardappel',\n",
       "  '2 middelgrote uien',\n",
       "  '15 g verse platte peterselie',\n",
       "  '4 el milde olijfolie',\n",
       "  '200 g gerookte spekreepjes',\n",
       "  '2 tl rodewijnazijn',\n",
       "  '250 ml water',\n",
       "  '1 Chinese kool',\n",
       "  '2 tl Chinees vijfkruidenpoeder',\n",
       "  '3 tl extra vierge olijfolie',\n",
       "  '75 melk',\n",
       "  '50 gebakken uitjes'],\n",
       " 'instructions': 'stap 1\\nSchil de aardappelen, snijd ze in gelijke stukken en kook in ca. 20 min. gaar.\\nstap 2\\nSnijd ondertussen de uien in halve ringen. Snijd de peterselie fijn, houd het blad en de stelen gescheiden.\\nstap 3\\nVerhit de milde olijfolie in een koekenpan op middelhoog vuur en bak het spek met de uien en peterseliestelen 8 min.\\nstap 4\\nDraai het vuur laag, voeg het water en de azijn toe en breng op smaak met peper en eventueel zout. Laat 10 min. zachtjes koken. Roer af en toe.\\nstap 5\\nSnijd ondertussen de Chinese kool in de lengte doormidden en vervolgens in repen van 2 cm.\\nstap 6\\nVerhit de rest van de milde olijfolie op hoog vuur in een hapjespan of wok en bak de kool in ca. 7 min. gaar.\\nstap 7\\nVoeg na 5 min. de five spices toe. Bak nog 2 min. en schep uit de pan.\\nstap 8\\nGiet de aardappelen af, schenk de melk en extra vierge olijfolie erbij en stamp tot puree.\\nstap 9\\nRoer de Chinese kool erdoor en breng op smaak met peper en eventueel zout.\\nstap 10\\nVerdeel de stamppot en spek-uienjus over de borden en bestrooi met de rest van de peterselie en gebakken uitjes.',\n",
       " 'instructions_list': ['stap 1',\n",
       "  'Schil de aardappelen, snijd ze in gelijke stukken en kook in ca. 20 min. gaar.',\n",
       "  'stap 2',\n",
       "  'Snijd ondertussen de uien in halve ringen. Snijd de peterselie fijn, houd het blad en de stelen gescheiden.',\n",
       "  'stap 3',\n",
       "  'Verhit de milde olijfolie in een koekenpan op middelhoog vuur en bak het spek met de uien en peterseliestelen 8 min.',\n",
       "  'stap 4',\n",
       "  'Draai het vuur laag, voeg het water en de azijn toe en breng op smaak met peper en eventueel zout. Laat 10 min. zachtjes koken. Roer af en toe.',\n",
       "  'stap 5',\n",
       "  'Snijd ondertussen de Chinese kool in de lengte doormidden en vervolgens in repen van 2 cm.',\n",
       "  'stap 6',\n",
       "  'Verhit de rest van de milde olijfolie op hoog vuur in een hapjespan of wok en bak de kool in ca. 7 min. gaar.',\n",
       "  'stap 7',\n",
       "  'Voeg na 5 min. de five spices toe. Bak nog 2 min. en schep uit de pan.',\n",
       "  'stap 8',\n",
       "  'Giet de aardappelen af, schenk de melk en extra vierge olijfolie erbij en stamp tot puree.',\n",
       "  'stap 9',\n",
       "  'Roer de Chinese kool erdoor en breng op smaak met peper en eventueel zout.',\n",
       "  'stap 10',\n",
       "  'Verdeel de stamppot en spek-uienjus over de borden en bestrooi met de rest van de peterselie en gebakken uitjes.'],\n",
       " 'language': 'nl',\n",
       " 'nutrients': {'calories': '675 kcal energie',\n",
       "  'fatContent': '43 g vet',\n",
       "  'saturatedFatContent': '12 g waarvan verzadigd',\n",
       "  'carbohydrateContent': '51 g koolhydraten',\n",
       "  'proteinContent': '16 g eiwit'},\n",
       " 'ratings': 3.83,\n",
       " 'site_name': None,\n",
       " 'title': 'Chinese koolstamppot',\n",
       " 'total_time': 30,\n",
       " 'yields': '4 servings'}"
      ]
     },
     "execution_count": 17,
     "metadata": {},
     "output_type": "execute_result"
    }
   ],
   "source": [
    "import requests\n",
    "from recipe_scrapers import scrape_me\n",
    "import pandas as pd\n",
    "import json\n",
    "import time\n",
    "\n",
    "scraper = scrape_me('https://www.ah.nl/allerhande/recept/R-R1198340/chinese-koolstamppot')\n",
    "scraper.to_json()"
   ]
  },
  {
   "cell_type": "code",
   "execution_count": 13,
   "metadata": {},
   "outputs": [],
   "source": [
    "with open('../smulweb_receps/1006716.json') as file:\n",
    "    json_file = json.load(file)"
   ]
  },
  {
   "cell_type": "code",
   "execution_count": 15,
   "metadata": {},
   "outputs": [],
   "source": [
    "title = json_file['title']\n",
    "ingredients = json_file['ingredients']\n",
    "instructions = json_file['instructions_list']\n",
    "url = json_file['canonical_url']"
   ]
  },
  {
   "cell_type": "code",
   "execution_count": 31,
   "metadata": {},
   "outputs": [
    {
     "data": {
      "text/plain": [
       "3523"
      ]
     },
     "execution_count": 31,
     "metadata": {},
     "output_type": "execute_result"
    }
   ],
   "source": [
    "import os\n",
    "path = '/commons/dsls/fine_bakery/scraped_recipes/ah/ah_receps/'\n",
    "old = len(os.listdir(path))\n",
    "old"
   ]
  },
  {
   "cell_type": "code",
   "execution_count": 40,
   "metadata": {},
   "outputs": [
    {
     "name": "stdout",
     "output_type": "stream",
     "text": [
      "total amount of recipes: 5298\n",
      "progress since last check: 574\n",
      "      \n"
     ]
    }
   ],
   "source": [
    "new = len(os.listdir(path))\n",
    "progress = new - old\n",
    "print(f\"\"\"total amount of recipes: {new}\n",
    "progress since last check: {progress}\n",
    "      \"\"\")\n",
    "old = new"
   ]
  },
  {
   "cell_type": "code",
   "execution_count": 37,
   "metadata": {},
   "outputs": [
    {
     "data": {
      "text/plain": [
       "11953"
      ]
     },
     "execution_count": 37,
     "metadata": {},
     "output_type": "execute_result"
    }
   ],
   "source": [
    "recipe_num_txt = '/commons/dsls/fine_bakery/scraped_recipes/ah/ah_recep_nrs.txt'\n",
    "\n",
    "def create_list():\n",
    "    with open(recipe_num_txt, 'r') as recep_file:\n",
    "        recipe_list = recep_file.readline()\n",
    "        recipe_list = recipe_list.replace(\"''\", \"', '\")\n",
    "        recipe_list = recipe_list.replace(\"'\", \"\").split(', ')\n",
    "        recipe_list = list(set(recipe_list))\n",
    "\n",
    "        return recipe_list\n",
    "    \n",
    "    \n",
    "rl = create_list()\n",
    "len(rl)"
   ]
  }
 ],
 "metadata": {
  "kernelspec": {
   "display_name": "ds",
   "language": "python",
   "name": "python3"
  },
  "language_info": {
   "codemirror_mode": {
    "name": "ipython",
    "version": 3
   },
   "file_extension": ".py",
   "mimetype": "text/x-python",
   "name": "python",
   "nbconvert_exporter": "python",
   "pygments_lexer": "ipython3",
   "version": "3.10.8"
  },
  "orig_nbformat": 4
 },
 "nbformat": 4,
 "nbformat_minor": 2
}
