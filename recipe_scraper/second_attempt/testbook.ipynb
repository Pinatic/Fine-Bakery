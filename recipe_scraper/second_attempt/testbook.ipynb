{
 "cells": [
  {
   "attachments": {},
   "cell_type": "markdown",
   "metadata": {},
   "source": [
    "TODO:\n",
    "- make the recipe finders store to a file\n",
    "- make the generic scaper read numbers from file, check if it already is in dir, if no, scape recipe\n",
    "- let this proces run every day for a while. exit if breaks?\n",
    "- either in three seperate mains or run it async in one main? -> baba?\n",
    "- save the output of the above processes\n",
    "- ???\n",
    "- profit"
   ]
  },
  {
   "cell_type": "code",
   "execution_count": 8,
   "metadata": {},
   "outputs": [],
   "source": [
    "import requests\n",
    "from recipe_scrapers import scrape_me\n",
    "import pandas as pd\n",
    "import json\n",
    "import time\n",
    "\n",
    "# scraper = scrape_me('https://www.ah.nl/allerhande/recept/R-R1198340/chinese-koolstamppot')\n"
   ]
  },
  {
   "cell_type": "code",
   "execution_count": 13,
   "metadata": {},
   "outputs": [],
   "source": [
    "with open('../smulweb_receps/1006716.json') as file:\n",
    "    json_file = json.load(file)"
   ]
  },
  {
   "cell_type": "code",
   "execution_count": 15,
   "metadata": {},
   "outputs": [],
   "source": [
    "title = json_file['title']\n",
    "ingredients = json_file['ingredients']\n",
    "instructions = json_file['instructions_list']\n",
    "url = json_file['canonical_url']"
   ]
  },
  {
   "cell_type": "code",
   "execution_count": 2,
   "metadata": {},
   "outputs": [
    {
     "data": {
      "text/plain": [
       "38390"
      ]
     },
     "execution_count": 2,
     "metadata": {},
     "output_type": "execute_result"
    }
   ],
   "source": [
    "import os\n",
    "path = '/commons/dsls/fine_bakery/scraped_recipes/smul/smul_receps/'\n",
    "old = len(os.listdir(path))\n",
    "old"
   ]
  },
  {
   "cell_type": "code",
   "execution_count": 17,
   "metadata": {},
   "outputs": [
    {
     "name": "stdout",
     "output_type": "stream",
     "text": [
      "\n",
      "total amount of recipes: 123529\n",
      "progress since last check: 17\n",
      "      \n"
     ]
    }
   ],
   "source": [
    "new = len(os.listdir(path))\n",
    "progress = new - old\n",
    "print(f\"\"\"\n",
    "total amount of recipes: {new}\n",
    "progress since last check: {progress}\n",
    "      \"\"\")\n",
    "old = new"
   ]
  }
 ],
 "metadata": {
  "kernelspec": {
   "display_name": "ds",
   "language": "python",
   "name": "python3"
  },
  "language_info": {
   "codemirror_mode": {
    "name": "ipython",
    "version": 3
   },
   "file_extension": ".py",
   "mimetype": "text/x-python",
   "name": "python",
   "nbconvert_exporter": "python",
   "pygments_lexer": "ipython3",
   "version": "3.10.8"
  },
  "orig_nbformat": 4
 },
 "nbformat": 4,
 "nbformat_minor": 2
}
