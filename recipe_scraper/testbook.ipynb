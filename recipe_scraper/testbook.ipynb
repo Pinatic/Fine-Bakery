{
 "cells": [
  {
   "attachments": {},
   "cell_type": "markdown",
   "metadata": {},
   "source": [
    "TODO:\n",
    "- make the recipe finders store to a file\n",
    "- make the generic scaper read numbers from file, check if it already is in dir, if no, scape recipe\n",
    "- let this proces run every day for a while. exit if breaks?\n",
    "- either in three seperate mains or run it async in one main? -> baba?\n",
    "- save the output of the above processes\n",
    "- ???\n",
    "- profit"
   ]
  },
  {
   "cell_type": "code",
   "execution_count": 8,
   "metadata": {},
   "outputs": [],
   "source": [
    "import requests\n",
    "from recipe_scrapers import scrape_me\n",
    "import pandas as pd\n",
    "import json\n",
    "import time\n",
    "\n",
    "# scraper = scrape_me('https://www.ah.nl/allerhande/recept/R-R1198340/chinese-koolstamppot')\n"
   ]
  },
  {
   "cell_type": "code",
   "execution_count": 13,
   "metadata": {},
   "outputs": [],
   "source": [
    "with open('../smulweb_receps/1006716.json') as file:\n",
    "    json_file = json.load(file)"
   ]
  },
  {
   "cell_type": "code",
   "execution_count": 15,
   "metadata": {},
   "outputs": [],
   "source": [
    "title = json_file['title']\n",
    "ingredients = json_file['ingredients']\n",
    "instructions = json_file['instructions_list']\n",
    "url = json_file['canonical_url']"
   ]
  },
  {
   "cell_type": "code",
   "execution_count": 16,
   "metadata": {},
   "outputs": [],
   "source": [
    "with open('test.csv', 'w') as f:\n",
    "    f.write(f'{title},\"{ingredients}\",\"{instructions}\",{url},\\n')"
   ]
  },
  {
   "cell_type": "code",
   "execution_count": 20,
   "metadata": {},
   "outputs": [
    {
     "data": {
      "text/html": [
       "<div>\n",
       "<style scoped>\n",
       "    .dataframe tbody tr th:only-of-type {\n",
       "        vertical-align: middle;\n",
       "    }\n",
       "\n",
       "    .dataframe tbody tr th {\n",
       "        vertical-align: top;\n",
       "    }\n",
       "\n",
       "    .dataframe thead th {\n",
       "        text-align: right;\n",
       "    }\n",
       "</style>\n",
       "<table border=\"1\" class=\"dataframe\">\n",
       "  <thead>\n",
       "    <tr style=\"text-align: right;\">\n",
       "      <th></th>\n",
       "      <th>0</th>\n",
       "      <th>1</th>\n",
       "    </tr>\n",
       "  </thead>\n",
       "  <tbody>\n",
       "    <tr>\n",
       "      <th>0</th>\n",
       "      <td>1</td>\n",
       "      <td>['1', '2', '3']</td>\n",
       "    </tr>\n",
       "    <tr>\n",
       "      <th>1</th>\n",
       "      <td>2</td>\n",
       "      <td>['1', '2', '3']</td>\n",
       "    </tr>\n",
       "    <tr>\n",
       "      <th>2</th>\n",
       "      <td>3</td>\n",
       "      <td>['1', '2', '3']</td>\n",
       "    </tr>\n",
       "    <tr>\n",
       "      <th>3</th>\n",
       "      <td>4</td>\n",
       "      <td>['1', '2', '3']</td>\n",
       "    </tr>\n",
       "    <tr>\n",
       "      <th>4</th>\n",
       "      <td>5</td>\n",
       "      <td>['1', '2', '3']</td>\n",
       "    </tr>\n",
       "    <tr>\n",
       "      <th>5</th>\n",
       "      <td>6</td>\n",
       "      <td>['1', '2', '3']</td>\n",
       "    </tr>\n",
       "    <tr>\n",
       "      <th>6</th>\n",
       "      <td>7</td>\n",
       "      <td>['1', '2', '3']</td>\n",
       "    </tr>\n",
       "    <tr>\n",
       "      <th>7</th>\n",
       "      <td>8</td>\n",
       "      <td>['1', '2', '3']</td>\n",
       "    </tr>\n",
       "    <tr>\n",
       "      <th>8</th>\n",
       "      <td>9</td>\n",
       "      <td>['1', '2', '3']</td>\n",
       "    </tr>\n",
       "  </tbody>\n",
       "</table>\n",
       "</div>"
      ],
      "text/plain": [
       "   0                1\n",
       "0  1  ['1', '2', '3']\n",
       "1  2  ['1', '2', '3']\n",
       "2  3  ['1', '2', '3']\n",
       "3  4  ['1', '2', '3']\n",
       "4  5  ['1', '2', '3']\n",
       "5  6  ['1', '2', '3']\n",
       "6  7  ['1', '2', '3']\n",
       "7  8  ['1', '2', '3']\n",
       "8  9  ['1', '2', '3']"
      ]
     },
     "execution_count": 20,
     "metadata": {},
     "output_type": "execute_result"
    }
   ],
   "source": [
    "import json\n",
    "import pandas as pd\n",
    "\n",
    "page_num = 1\n",
    "numers = ['1', '2', '3']\n",
    "\n",
    "with open('test.csv', 'w') as outfile:\n",
    "    while page_num < 10:\n",
    "        outfile.write(f'{page_num}\\t{numers}\\n')\n",
    "        page_num += 1\n",
    "\n",
    "df = pd.read_csv('test.csv', header=None, delimiter='\\t')\n",
    "df[1].tolist()\n",
    "LoL = df[1].tolist()\n",
    "df"
   ]
  }
 ],
 "metadata": {
  "kernelspec": {
   "display_name": "ds",
   "language": "python",
   "name": "python3"
  },
  "language_info": {
   "codemirror_mode": {
    "name": "ipython",
    "version": 3
   },
   "file_extension": ".py",
   "mimetype": "text/x-python",
   "name": "python",
   "nbconvert_exporter": "python",
   "pygments_lexer": "ipython3",
   "version": "3.9.13"
  },
  "orig_nbformat": 4
 },
 "nbformat": 4,
 "nbformat_minor": 2
}
