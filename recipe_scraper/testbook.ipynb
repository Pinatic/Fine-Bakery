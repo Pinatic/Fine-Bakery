{
 "cells": [
  {
   "cell_type": "code",
   "execution_count": 1,
   "metadata": {},
   "outputs": [],
   "source": [
    "import requests\n",
    "from recipe_scrapers import scrape_me\n",
    "\n",
    "scraper = scrape_me('https://www.lekkerensimpel.com/mexicaanse-kapsalon/')"
   ]
  },
  {
   "cell_type": "code",
   "execution_count": 4,
   "metadata": {},
   "outputs": [
    {
     "ename": "IndentationError",
     "evalue": "expected an indented block after 'with' statement on line 1 (4282470420.py, line 2)",
     "output_type": "error",
     "traceback": [
      "\u001b[1;36m  Cell \u001b[1;32mIn[4], line 2\u001b[1;36m\u001b[0m\n\u001b[1;33m    recipes = ['mexicaanse-kapsalon', 'pasta-met-kipgehaktballetjes-in-roomsaus']\u001b[0m\n\u001b[1;37m    ^\u001b[0m\n\u001b[1;31mIndentationError\u001b[0m\u001b[1;31m:\u001b[0m expected an indented block after 'with' statement on line 1\n"
     ]
    }
   ],
   "source": [
    "with open('test.csv', 'w') as output:\n",
    "    recipes = ['mexicaanse-kapsalon', 'pasta-met-kipgehaktballetjes-in-roomsaus']\n",
    "    for recp in recipes:\n",
    "        scraper = scrape_me(f'https://www.lekkerensimpel.com/{recp}')\n",
    "        output.write(scraper.title()+',')\n",
    "        output.write(str(scraper.ingredients())+',')\n",
    "        output.write(str(scraper.instructions().split('\\n'))+',')\n",
    "        output.write(scraper.url+',')\n",
    "        output.write('NaN\\n')"
   ]
  },
  {
   "cell_type": "code",
   "execution_count": 3,
   "metadata": {},
   "outputs": [],
   "source": [
    "with open('test.csv', 'w') as output:\n",
    "\n",
    "    output.write(scraper.title()+',')\n",
    "    output.write(str(scraper.ingredients())+',')\n",
    "    output.write(str(scraper.instructions().split('\\n'))+',')\n",
    "    output.write(scraper.url+',')\n",
    "    output.write('NaN\\n')"
   ]
  },
  {
   "cell_type": "code",
   "execution_count": 11,
   "metadata": {},
   "outputs": [],
   "source": [
    "import requests\n",
    "import re\n",
    "from bs4 import BeautifulSoup\n",
    "\n",
    "html = requests.get('https://www.lekkerensimpel.com/hoofdgerechten/vegetarische-recepten/')\n",
    "soup = BeautifulSoup(html.text)\n",
    "\n",
    "recipes = []\n",
    "[recipes.append(a['href'].split('/')[-2]) for a in\n",
    " (soup.find_all('a', attrs={\"class\":\"post-item__anchor\"}))]"
   ]
  },
  {
   "cell_type": "code",
   "execution_count": 146,
   "metadata": {},
   "outputs": [
    {
     "name": "stdout",
     "output_type": "stream",
     "text": [
      "a\n",
      "0\n",
      "1\n",
      "2\n",
      "b\n",
      "0\n",
      "1\n",
      "2\n",
      "c\n",
      "0\n",
      "1\n",
      "2\n",
      "d\n",
      "0\n",
      "1\n",
      "2\n"
     ]
    }
   ],
   "source": [
    "a = [\"a\",'b','c','d']\n",
    "\n",
    "for letter in a:\n",
    "    print(letter)\n",
    "    \n",
    "    b = 0\n",
    "    while True:\n",
    "        \n",
    "\n",
    "        if b < 3:\n",
    "            print(b)\n",
    "            b += 1\n",
    "        \n",
    "        else:\n",
    "            break\n",
    "        "
   ]
  },
  {
   "cell_type": "code",
   "execution_count": null,
   "metadata": {},
   "outputs": [],
   "source": []
  }
 ],
 "metadata": {
  "kernelspec": {
   "display_name": "ds",
   "language": "python",
   "name": "python3"
  },
  "language_info": {
   "codemirror_mode": {
    "name": "ipython",
    "version": 3
   },
   "file_extension": ".py",
   "mimetype": "text/x-python",
   "name": "python",
   "nbconvert_exporter": "python",
   "pygments_lexer": "ipython3",
   "version": "3.10.9"
  },
  "orig_nbformat": 4
 },
 "nbformat": 4,
 "nbformat_minor": 2
}
