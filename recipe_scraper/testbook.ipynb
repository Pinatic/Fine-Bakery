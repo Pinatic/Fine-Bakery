{
 "cells": [
  {
   "cell_type": "code",
   "execution_count": 2,
   "metadata": {},
   "outputs": [],
   "source": [
    "import requests\n",
    "from recipe_scrapers import scrape_me\n",
    "import pandas as pd\n",
    "import json\n",
    "import time\n",
    "\n",
    "# scraper = scrape_me('https://www.ah.nl/allerhande/recept/R-R1198340/chinese-koolstamppot')\n"
   ]
  },
  {
   "cell_type": "code",
   "execution_count": 4,
   "metadata": {},
   "outputs": [],
   "source": [
    "with open('ah_receps/beenham_uit_de_slowcooker.json') as file:\n",
    "    json_file = json.load(file)"
   ]
  },
  {
   "cell_type": "code",
   "execution_count": 64,
   "metadata": {},
   "outputs": [],
   "source": [
    "title = json_file['title']\n",
    "ingredients = json_file['ingredients']\n",
    "instructions = json_file['instructions_list']\n",
    "url = json_file['canonical_url']"
   ]
  },
  {
   "cell_type": "code",
   "execution_count": 65,
   "metadata": {},
   "outputs": [],
   "source": [
    "with open('test.csv', 'w') as f:\n",
    "    f.write(f'{title},\"{ingredients}\",\"{instructions}\",{url},\\n')"
   ]
  },
  {
   "cell_type": "code",
   "execution_count": 67,
   "metadata": {},
   "outputs": [
    {
     "data": {
      "text/html": [
       "<div>\n",
       "<style scoped>\n",
       "    .dataframe tbody tr th:only-of-type {\n",
       "        vertical-align: middle;\n",
       "    }\n",
       "\n",
       "    .dataframe tbody tr th {\n",
       "        vertical-align: top;\n",
       "    }\n",
       "\n",
       "    .dataframe thead th {\n",
       "        text-align: right;\n",
       "    }\n",
       "</style>\n",
       "<table border=\"1\" class=\"dataframe\">\n",
       "  <thead>\n",
       "    <tr style=\"text-align: right;\">\n",
       "      <th></th>\n",
       "      <th>0</th>\n",
       "      <th>1</th>\n",
       "      <th>2</th>\n",
       "      <th>3</th>\n",
       "      <th>4</th>\n",
       "    </tr>\n",
       "  </thead>\n",
       "  <tbody>\n",
       "    <tr>\n",
       "      <th>0</th>\n",
       "      <td>Beenham uit de slowcooker</td>\n",
       "      <td>['3 tenen knoflook', '550 g beenhammen voor in...</td>\n",
       "      <td>['stap 1', 'Haal de beenham uit de koelkast. S...</td>\n",
       "      <td>https://www.ah.nl/allerhande/recept/R-R1198343...</td>\n",
       "      <td>NaN</td>\n",
       "    </tr>\n",
       "  </tbody>\n",
       "</table>\n",
       "</div>"
      ],
      "text/plain": [
       "                           0  \\\n",
       "0  Beenham uit de slowcooker   \n",
       "\n",
       "                                                   1  \\\n",
       "0  ['3 tenen knoflook', '550 g beenhammen voor in...   \n",
       "\n",
       "                                                   2  \\\n",
       "0  ['stap 1', 'Haal de beenham uit de koelkast. S...   \n",
       "\n",
       "                                                   3   4  \n",
       "0  https://www.ah.nl/allerhande/recept/R-R1198343... NaN  "
      ]
     },
     "execution_count": 67,
     "metadata": {},
     "output_type": "execute_result"
    }
   ],
   "source": [
    "pd.read_csv('test.csv', header=None)"
   ]
  }
 ],
 "metadata": {
  "kernelspec": {
   "display_name": "ds",
   "language": "python",
   "name": "python3"
  },
  "language_info": {
   "codemirror_mode": {
    "name": "ipython",
    "version": 3
   },
   "file_extension": ".py",
   "mimetype": "text/x-python",
   "name": "python",
   "nbconvert_exporter": "python",
   "pygments_lexer": "ipython3",
   "version": "3.10.8"
  },
  "orig_nbformat": 4
 },
 "nbformat": 4,
 "nbformat_minor": 2
}
