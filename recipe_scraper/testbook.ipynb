{
 "cells": [
  {
   "attachments": {},
   "cell_type": "markdown",
   "metadata": {},
   "source": [
    "TODO:\n",
    "- make the recipe finders store to a file\n",
    "- make the generic scaper read numbers from file, check if it already is in dir, if no, scape recipe\n",
    "- let this proces run every day for a while. exit if breaks?\n",
    "- either in three seperate mains or run it async in one main? -> baba?\n",
    "- save the output of the above processes\n",
    "- ???\n",
    "- profit"
   ]
  },
  {
   "cell_type": "code",
   "execution_count": 8,
   "metadata": {},
   "outputs": [],
   "source": [
    "import requests\n",
    "from recipe_scrapers import scrape_me\n",
    "import pandas as pd\n",
    "import json\n",
    "import time\n",
    "\n",
    "# scraper = scrape_me('https://www.ah.nl/allerhande/recept/R-R1198340/chinese-koolstamppot')\n"
   ]
  },
  {
   "cell_type": "code",
   "execution_count": 13,
   "metadata": {},
   "outputs": [],
   "source": [
    "with open('../smulweb_receps/1006716.json') as file:\n",
    "    json_file = json.load(file)"
   ]
  },
  {
   "cell_type": "code",
   "execution_count": 15,
   "metadata": {},
   "outputs": [],
   "source": [
    "title = json_file['title']\n",
    "ingredients = json_file['ingredients']\n",
    "instructions = json_file['instructions_list']\n",
    "url = json_file['canonical_url']"
   ]
  },
  {
   "cell_type": "code",
   "execution_count": 16,
   "metadata": {},
   "outputs": [],
   "source": [
    "with open('test.csv', 'w') as f:\n",
    "    f.write(f'{title},\"{ingredients}\",\"{instructions}\",{url},\\n')"
   ]
  },
  {
   "cell_type": "code",
   "execution_count": 16,
   "metadata": {},
   "outputs": [
    {
     "name": "stdout",
     "output_type": "stream",
     "text": [
      "1384622\n"
     ]
    }
   ],
   "source": [
    "import json\n",
    "import pandas as pd\n",
    "\n",
    "\n",
    "# recipe_scraper/second_attempt/test/smulweb_recep_nrs.csv\n",
    "with open('./second_attempt/test/smulweb_recep_nrs.txt', 'r') as recep_file:\n",
    "    recep_list = recep_file.readline().replace(\"'\",\"\").split(',')\n",
    "\n",
    "print(recep_list[0])"
   ]
  }
 ],
 "metadata": {
  "kernelspec": {
   "display_name": "ds",
   "language": "python",
   "name": "python3"
  },
  "language_info": {
   "codemirror_mode": {
    "name": "ipython",
    "version": 3
   },
   "file_extension": ".py",
   "mimetype": "text/x-python",
   "name": "python",
   "nbconvert_exporter": "python",
   "pygments_lexer": "ipython3",
   "version": "3.10.8"
  },
  "orig_nbformat": 4
 },
 "nbformat": 4,
 "nbformat_minor": 2
}
