{
 "cells": [
  {
   "cell_type": "code",
   "execution_count": 1,
   "metadata": {},
   "outputs": [
    {
     "name": "stdout",
     "output_type": "stream",
     "text": [
      "Execution times in stress test:\n",
      "pre computing distance for Graph 1: 0.015022039413452148 seconds\n",
      "pre computing distance for Graph 2: 0.014017105102539062 seconds\n",
      "pre computing distance for Graph 3: 0.014525175094604492 seconds\n",
      "pre computing distance for Graph 4: 0.014998674392700195 seconds\n"
     ]
    }
   ],
   "source": [
    "import time\n",
    "import numpy as np\n",
    "from sklearn.metrics.pairwise import euclidean_distances\n",
    "import pickle\n",
    "\n",
    "def calculate_and_save_euclidean_distances(embedding_files, output_file):\n",
    "    execution_times = []\n",
    "\n",
    "    for embedding_file in embedding_files:\n",
    "        # Load ingredient embeddings from file\n",
    "        with open(embedding_file, \"rb\") as file:\n",
    "            ingredient_embeddings = pickle.load(file)\n",
    "\n",
    "        ingredient_embeddings_list = list(ingredient_embeddings.values())\n",
    "\n",
    "        start_time = time.time()  # Start measuring execution time\n",
    "        euclidean_distance_matrix = euclidean_distances(ingredient_embeddings_list)\n",
    "        end_time = time.time()  # Stop measuring execution time\n",
    "        execution_time = end_time - start_time\n",
    "\n",
    "        execution_times.append(execution_time)\n",
    "\n",
    "    # Save results to the output file\n",
    "    with open(output_file, \"w\") as file:\n",
    "        for i, embedding_file in enumerate(embedding_files):\n",
    "            file.write(f\"pre computing distance for Graph {i+1}: {execution_times[i]}\\n\")\n",
    "\n",
    "    return execution_times\n",
    "\n",
    "embedding_files = [\n",
    "    \"C:/Users/ghaza/Desktop/embeddings-1&2/ingredient_embedding_graph1.pkl\",\n",
    "    \"C:/Users/ghaza/Desktop/embeddings-1&2/ingredient_embedding_graph2.pkl\",\n",
    "    \"C:/Users/ghaza/Desktop/embeddings_5&6/ingredient_embedding_graph5.pkl\",\n",
    "    \"C:/Users/ghaza/Desktop/embeddings_5&6/ingredient_embedding_graph6.pkl\"\n",
    "]\n",
    "output_file = \"C:/Users/ghaza/Desktop/embeddings-1&2/distance_table.txt\"\n",
    "\n",
    "execution_times = calculate_and_save_euclidean_distances(embedding_files, output_file)\n",
    "\n",
    "print(\"Execution times in stress test:\")\n",
    "for i, time in enumerate(execution_times):\n",
    "    print(f\"pre computing distance for Graph {i+1}: {time} seconds\")\n"
   ]
  }
 ],
 "metadata": {
  "kernelspec": {
   "display_name": "Python 3",
   "language": "python",
   "name": "python3"
  },
  "language_info": {
   "codemirror_mode": {
    "name": "ipython",
    "version": 3
   },
   "file_extension": ".py",
   "mimetype": "text/x-python",
   "name": "python",
   "nbconvert_exporter": "python",
   "pygments_lexer": "ipython3",
   "version": "3.11.4"
  },
  "orig_nbformat": 4
 },
 "nbformat": 4,
 "nbformat_minor": 2
}
