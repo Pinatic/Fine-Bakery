{
 "cells": [
  {
   "attachments": {},
   "cell_type": "markdown",
   "metadata": {},
   "source": [
    "Integration of 936 JSON ingredient files downloaded from Flavour DB into a unified file named \"integrated_data\". Extract the attribute \"entity_alias_readable\" representing the ingredient and its sub-attribute \"molecules\". Within \"molecules\", extract the attributes \"flavor_profile\", \"fooddb_flavor_profile\", and \"common_name\" representing the molecule name, taste, and flavor information."
   ]
  },
  {
   "cell_type": "code",
   "execution_count": null,
   "metadata": {},
   "outputs": [],
   "source": [
    "import os\n",
    "import json\n",
    "import networkx as nx\n",
    "import matplotlib.pyplot as plt\n",
    "# Specify the folder path containing the JSON files\n",
    "folder_path = \"C:/Users/ghaza/Downloads/ingrediants\"\n",
    "\n",
    "# Check if the output file already exists\n",
    "output_file_path = \"C:/Users/ghaza/Downloads/integrated_data.json\"\n",
    "if os.path.exists(output_file_path):\n",
    "    os.remove(output_file_path)\n",
    "    \n",
    "# Create a dictionary to store the integrated data\n",
    "integrated_data = []\n",
    "\n",
    "# Iterate over each file in the folder\n",
    "for filename in os.listdir(folder_path):\n",
    "    if filename.endswith(\".json\"):\n",
    "        file_path = os.path.join(folder_path, filename)\n",
    "\n",
    "        # Read the JSON file\n",
    "        with open(file_path, \"r\") as file:\n",
    "            file_data = json.load(file)\n",
    "            ingredient = file_data.get(\"entity_alias_readable\", \"\")\n",
    "            molecules = file_data.get(\"molecules\", [])\n",
    "\n",
    "            # Iterate over molecules and extract relevant data\n",
    "            for molecule in molecules:\n",
    "                molecule_info = {\n",
    "                    \"flavor\": molecule.get(\"flavor_profile\", \"\"),\n",
    "                    \"molecule\": molecule.get(\"common_name\", \"\"),\n",
    "                    \"fooddb_flavor_profile\": molecule.get(\"fooddb_flavor_profile\", \"\"),\n",
    "                    \"taste\": molecule.get(\"taste\", \"\")\n",
    "                }\n",
    "                ingredient_data = {\n",
    "                    \"ingredients\": ingredient,\n",
    "                    \"molecules\": [molecule_info]\n",
    "                }\n",
    "\n",
    "                # Check if ingredient already exists in integrated_data\n",
    "                existing_ingredient = next((item for item in integrated_data if item[\"ingredients\"] == ingredient), None)\n",
    "\n",
    "                # If ingredient already exists, append molecule to existing ingredient\n",
    "                if existing_ingredient:\n",
    "                    existing_ingredient[\"molecules\"].append(molecule_info)\n",
    "                else:\n",
    "                    integrated_data.append(ingredient_data)\n",
    "\n",
    "# Write the integrated data into the output file\n",
    "with open(output_file_path, \"w\") as output_file:\n",
    "    json.dump(integrated_data, output_file, indent=4)\n",
    "\n",
    "print(\"Integrated JSON file created successfully.\")\n"
   ]
  },
  {
   "attachments": {},
   "cell_type": "markdown",
   "metadata": {},
   "source": [
    "make list of ingrediants names "
   ]
  },
  {
   "cell_type": "code",
   "execution_count": null,
   "metadata": {},
   "outputs": [],
   "source": [
    "import json\n",
    "\n",
    "# Read the file\n",
    "with open('C:/Users/ghaza/Downloads/integrated_data.json') as file:\n",
    "    data = json.load(file)\n",
    "\n",
    "# Extract the ingredient names\n",
    "ingredient_names = [item['ingredients'] for item in data]\n",
    "\n",
    "# Print the ingredient names\n",
    "ingredient_names\n"
   ]
  }
 ],
 "metadata": {
  "kernelspec": {
   "display_name": "Python 3",
   "language": "python",
   "name": "python3"
  },
  "language_info": {
   "codemirror_mode": {
    "name": "ipython",
    "version": 3
   },
   "file_extension": ".py",
   "mimetype": "text/x-python",
   "name": "python",
   "nbconvert_exporter": "python",
   "pygments_lexer": "ipython3",
   "version": "3.10.9"
  },
  "orig_nbformat": 4
 },
 "nbformat": 4,
 "nbformat_minor": 2
}
